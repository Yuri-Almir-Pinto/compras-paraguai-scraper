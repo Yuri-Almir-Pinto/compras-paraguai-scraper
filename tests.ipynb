{
 "cells": [
  {
   "cell_type": "code",
   "execution_count": 6,
   "metadata": {},
   "outputs": [],
   "source": [
    "from extractors.base_page_list import BasePageList\n",
    "\n",
    "page = BasePageList.restore(\"https://www.comprasparaguai.com.br/tablet--samsung/\")\n"
   ]
  },
  {
   "cell_type": "code",
   "execution_count": 9,
   "metadata": {},
   "outputs": [
    {
     "name": "stdout",
     "output_type": "stream",
     "text": [
      "{'first_url': 'https://www.comprasparaguai.com.br/tablet--samsung/', 'base_pages': [<extractors.base_page.BasePage object at 0x000002510BF3AC90>, <extractors.base_page.BasePage object at 0x000002510BF2EBA0>, <extractors.base_page.BasePage object at 0x000002510BF2EF30>], 'all_details': {'Marca': 'Samsung', 'Memória Interna': '128GB', 'Memória RAM': '8GB', 'Memória Externa': 'Suporta cartão Micro SD de até 1TB', 'Processador CPU': 'Qualcomm SM8450 Snapdragon 8 Gen 1 (4 nm) Octa Core (Single Core de 3.0GHz + Triple Core de 2.5GHz + Quad Core de 1.8GHz)', 'Sistema Operacional': 'Android 12', 'Tela': 'Super AMOLED de 12.4\" WQXGA+, HDR10+, com proteção Corning Gorilla Glass 5', 'Taxa de Atualização': '120Hz', 'Câmera': 'Principal Dual: Wide de 13MP f/2.0 e Ultra Wide de 6MP f/2.2 + Câmera Frontal de 12MP f/2.4', 'Bateria': '10.090 mAh', 'Comunicação': 'USB-C', 'Conectividade Wireless': 'Wi-Fi 6 802.11 a/b/g/n/ac/ax, banda dupla 2.4GHz e 5GHz - Bluetooth 5.2', 'Vídeo': 'Qualidade máxima de captura: 4K Ultra HD a 30 fps', 'Localização': 'GPS - GLONASS - BeiDou - Galileo - QZSS', 'Sensor': 'Impressão Digital - Acelerômetro - Sensor Hall - Sensor de Luz Ambiente - Giroscópio - Sensor Geomagnético', 'Rendimento': 'Classificação IP68', 'Áudio': 'Dolby Atmos', 'Características': 'Compatível com S Pen', 'Peso Bruto': '849 Gramas', 'Dimensões': 'Embalagem: 20.6 x 2.2 x 30.6 Cm', 'Inclui': 'Cabo USB-C - S Pen - Manual', 'Alto Falantes': 'Integrados', 'Microfone': 'Integrado', 'Frequência': '5G', 'Formatos de Áudio': 'Reproduz: MP3, M4A, 3GA, AAC, OGG, OGA, WAV, AMR, AWB, FLAC, MID, MIDI, XMF, MXMF, IMY, RTTTL, RTX e OTA', 'Formatos de Vídeo': 'Reproduz: MP4, M4V, 3GP, 3G2, AVI, FLV, MKV e WEBM', 'Câmera Traseira': 'Dual: 13MP (wide) com f/2.0 + 6MP (ultrawide) com f/2.2, LED flash, HDR, panorama', 'Câmera Frontal': 'De 12MP (wide) com f/2.2 + 12MP (ultrawide) com f/2.4, HDR', 'Conectividade': 'Wi-Fi 6 802.11 a/b/g/n/ac/6e, de duas bandas (2.4GHz e 5GHz) - Bluetooth 5.2', 'Frequência 2G': 'GSM (850/900/1800/1900)', 'Frequência 3G': 'HSDPA (850/900/1700(AWS)/1900/2100)', 'Frequência 4G': 'LTE (1, 2, 3, 4, 5, 7, 8, 12, 17, 20, 25, 26, 28, 38, 40, 41, 66)', 'Frequência 5G': 'FDD Sub6: N1, N3, N5, N7, N8, N20, N28, N66(AWS-3) - TDD Sub6: N38, N40, N41, N77, N78', 'SIM Card': 'Single SIM (Nano)', 'Alto Falante': 'Integrados', 'Conexões': 'USB-C 3.2 - Conector magnético', 'Processador': 'Qualcomm SM8450 Snapdragon 8 Gen 1 (4 nm), Octa-core (1x 3.0GHz Cortex-X2 & 3x 2.50GHz Cortex-A710 & 4x 1.8GHz Cortex-A510) - GPU: Adreno 730', 'GPS': 'A-GPS - GLONASS - BeiDou', 'GPU': 'Adreno 730', 'Teclado': 'Espanhol'}}\n"
     ]
    }
   ],
   "source": [
    "import json\n",
    "\n",
    "print(page.__dict__)"
   ]
  }
 ],
 "metadata": {
  "kernelspec": {
   "display_name": "env",
   "language": "python",
   "name": "python3"
  },
  "language_info": {
   "codemirror_mode": {
    "name": "ipython",
    "version": 3
   },
   "file_extension": ".py",
   "mimetype": "text/x-python",
   "name": "python",
   "nbconvert_exporter": "python",
   "pygments_lexer": "ipython3",
   "version": "3.12.3"
  }
 },
 "nbformat": 4,
 "nbformat_minor": 2
}
